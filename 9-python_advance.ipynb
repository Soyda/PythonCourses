{
 "cells": [
  {
   "cell_type": "markdown",
   "metadata": {},
   "source": [
    "# Les compréhension de collection"
   ]
  },
  {
   "cell_type": "markdown",
   "metadata": {},
   "source": [
    "## comprehension de liste"
   ]
  },
  {
   "cell_type": "markdown",
   "metadata": {},
   "source": [
    "La comprehension de liste est une manière de travaille sur les listes"
   ]
  },
  {
   "cell_type": "code",
   "execution_count": null,
   "metadata": {},
   "outputs": [
    {
     "name": "stdout",
     "output_type": "stream",
     "text": [
      "[3, 8, 7, 20, 32, 21]\n",
      "[3, 4, 8, 7, 20, 32, 9, 21]\n"
     ]
    }
   ],
   "source": [
    "ma_liste = [3, -4, 8, 7, 20, 32, -9, 21]\n",
    "filtre_nombres_positifs = [i for i in ma_liste if i>0]\n",
    "print(filtre_nombres_positifs)\n",
    "# très pratique pour filter\n",
    "\n",
    "# on peut également intégrer un else\n",
    "abs_liste = [i if i>0 else -i for i in ma_liste ]\n",
    "print(abs_liste)"
   ]
  },
  {
   "cell_type": "markdown",
   "metadata": {},
   "source": [
    "**`Exercice 1`**:   \n",
    "Utilisez la compréhension de liste pour à partir de la liste ma_liste, renvoyer une nouvelle liste ne comprennant seulement les nombres impair se situant juste après les nombres paires positif de cette liste.\n",
    "\n",
    "Exemple \n",
    "- pour : ma_liste = [3, -4, 8, 7, 20, 32, -9, 21]\n",
    "- renvoyer : [9 , 21, 33] "
   ]
  },
  {
   "cell_type": "code",
   "execution_count": 15,
   "metadata": {},
   "outputs": [
    {
     "name": "stdout",
     "output_type": "stream",
     "text": [
      "[9, 21, 33]\n"
     ]
    }
   ],
   "source": [
    "ma_liste = [3, -4, 8, 7, 20, 32, -9, 21]\n",
    "res = [ma_liste[i]+1 for i in range(len(ma_liste)) if ma_liste[i]%2==0 and ma_liste[i]>0 and i!=0  ]\n",
    "print(res)"
   ]
  },
  {
   "cell_type": "markdown",
   "metadata": {},
   "source": [
    "**`Exercice 2`**:   \n",
    "Using list comprehension, construct a list from the squares of each element in the list, if the square is greater than 50.  \n",
    "\n",
    "lst1=[2, 4, 6, 8, 10, 12, 14]"
   ]
  },
  {
   "cell_type": "code",
   "execution_count": 11,
   "metadata": {},
   "outputs": [
    {
     "name": "stdout",
     "output_type": "stream",
     "text": [
      "[64, 100, 144, 196]\n"
     ]
    }
   ],
   "source": [
    "lst1=[2, 4, 6, 8, 10, 12, 14]\n",
    "lst2=[i**2 for i in lst1 if i**2>50 ]\n",
    "print(lst2)"
   ]
  },
  {
   "cell_type": "markdown",
   "metadata": {},
   "source": [
    "**`Exercice 3`**:   \n",
    "Create a list from the elements of a range from 1200 to 2000 with steps of 130, using list comprehension.  "
   ]
  },
  {
   "cell_type": "code",
   "execution_count": 34,
   "metadata": {},
   "outputs": [
    {
     "name": "stdout",
     "output_type": "stream",
     "text": [
      "[1200, 1330, 1460, 1590, 1720, 1850, 1980]\n",
      "[1200, 1330, 1460, 1590, 1720, 1850, 1980]\n"
     ]
    }
   ],
   "source": [
    "range_1200_2000 = [i for i in range(1200, 2000, 130) ]\n",
    "print(range_1200_2000)\n",
    "my_list = [*range(1200, 2000, 130)]\n",
    "print(my_list)"
   ]
  },
  {
   "cell_type": "markdown",
   "metadata": {},
   "source": [
    "**`Exercice 4`**:   \n",
    "Given dictionary is consisted of vehicles and their weights in kilograms. Contruct a list of the names of vehicles with weight below 5000 kilograms. In the same list comprehension make the key names all upper case."
   ]
  },
  {
   "cell_type": "code",
   "execution_count": 25,
   "metadata": {},
   "outputs": [
    {
     "name": "stdout",
     "output_type": "stream",
     "text": [
      "['TWINGO', 'MERCEDES', 'SMART']\n"
     ]
    }
   ],
   "source": [
    "vehicles = {'paquebot': 100000, 'plane': 20000, 'twingo': 600, 'mercedes': 2500, 'smart': 500}\n",
    "list_vehicles = [key.upper() for key,values in vehicles.items() if values<5000]\n",
    "print(list_vehicles)"
   ]
  },
  {
   "cell_type": "markdown",
   "metadata": {},
   "source": [
    "## Comprehension de dicitonnaire"
   ]
  },
  {
   "cell_type": "code",
   "execution_count": 6,
   "metadata": {},
   "outputs": [
    {
     "data": {
      "text/plain": [
       "{'one': 1, 'two': 2, 'three': 3}"
      ]
     },
     "execution_count": 6,
     "metadata": {},
     "output_type": "execute_result"
    }
   ],
   "source": [
    "\"\"\"Il est également possible de faire une compréhension de dictionnaire\"\"\"\n",
    "\n",
    "keys_liste = [\"one\", \"two\", \"three\"]\n",
    "my_dict={keys_liste[i]:i+1 for i in range(0,len(keys_liste))}\n",
    "my_dict"
   ]
  },
  {
   "cell_type": "markdown",
   "metadata": {},
   "source": [
    "**`Exercice 1`**:  \n",
    "Create a dictionary from the list with same key:value pairs, such as: {\"key\": \"key\"}."
   ]
  },
  {
   "cell_type": "code",
   "execution_count": 33,
   "metadata": {},
   "outputs": [
    {
     "name": "stdout",
     "output_type": "stream",
     "text": [
      "{'NY': 'NY', 'FL': 'FL', 'CA': 'CA', 'VT': 'VT'}\n"
     ]
    }
   ],
   "source": [
    "lst=[\"NY\", \"FL\", \"CA\", \"VT\"]\n",
    "dict={lst[i]: lst[i] for i in range(len(lst))} # dict = {i:i for i in lst}\n",
    "print(dict)"
   ]
  },
  {
   "cell_type": "markdown",
   "metadata": {},
   "source": [
    "**`Exercice 2`**:   \n",
    "First, create a range from 100 to 160 with steps of 10.\n",
    "Second, using dict comprehension, create a dictionary where each number in the range is the key and each item divided by 100 is the value."
   ]
  },
  {
   "cell_type": "code",
   "execution_count": 35,
   "metadata": {},
   "outputs": [
    {
     "name": "stdout",
     "output_type": "stream",
     "text": [
      "{100: 1.0, 110: 1.1, 120: 1.2, 130: 1.3, 140: 1.4, 150: 1.5}\n"
     ]
    }
   ],
   "source": [
    "from100to160 = [*range(100, 160, 10)]\n",
    "dict100to160 ={ from100to160[i]: from100to160[i]/100 for i in range(len(from100to160))} # mieux: dict={i:i/100 for i in range(100, 160, 10)}\n",
    "print(dict100to160)"
   ]
  },
  {
   "cell_type": "markdown",
   "metadata": {},
   "source": [
    "**`Exercice 3`**:   \n",
    "Using dict comprehension and a conditional argument create a dictionary from the current dictionary where only the key:value pairs with value above 2000 are taken to the new dictionary.\n",
    "\n"
   ]
  },
  {
   "cell_type": "code",
   "execution_count": 41,
   "metadata": {},
   "outputs": [
    {
     "name": "stdout",
     "output_type": "stream",
     "text": [
      "{'NFLX': 4950, 'TREX': 2400}\n"
     ]
    }
   ],
   "source": [
    "dict1={\"NFLX\":4950,\"TREX\":2400,\"FIZZ\":1800, \"XPO\":1700}\n",
    "dict2={i: dict1[i] for i in dict1 if dict1[i]>2000} # ou dict = {key:value in dict1.items() if value > 2000}\n",
    "print(dict2)"
   ]
  },
  {
   "cell_type": "markdown",
   "metadata": {},
   "source": [
    "**`Exercice 4`**: \n",
    "En utilisant la fonction zip() et la comprehension de dictionnaire, créer un dictionnaire qui prend comme clef les valeurs de la première liste et en valeur les valeurs de la seconde"
   ]
  },
  {
   "cell_type": "code",
   "execution_count": 48,
   "metadata": {},
   "outputs": [
    {
     "name": "stdout",
     "output_type": "stream",
     "text": [
      "[('Netflix', 198), ('Hulu', 166), ('Sling', 237), ('Hbo', 125)]\n",
      "{'Netflix': 198, 'Hulu': 166, 'Sling': 237, 'Hbo': 125}\n"
     ]
    }
   ],
   "source": [
    "lst1=[\"Netflix\", \"Hulu\", \"Sling\", \"Hbo\"]\n",
    "lst2=[198, 166, 237, 125]\n",
    "lst3=list(zip(lst1, lst2)) # pour unzip: lst1,lst2 = zip(*lst3)\n",
    "print(lst3)\n",
    "dico={lst3[i][0]: lst3[i][1] for i in range(len(lst3))} # mieux dict = {i:j for i,j in zip(zip(lst1, lst2)]}\n",
    "print(dico)"
   ]
  },
  {
   "cell_type": "markdown",
   "metadata": {},
   "source": [
    "# Pass, break and continue"
   ]
  },
  {
   "cell_type": "markdown",
   "metadata": {},
   "source": [
    "### break"
   ]
  },
  {
   "cell_type": "code",
   "execution_count": 8,
   "metadata": {},
   "outputs": [
    {
     "name": "stdout",
     "output_type": "stream",
     "text": [
      "0\n",
      "encore?\n",
      "1\n",
      "encore?\n",
      "2\n",
      "encore?\n",
      "3\n",
      "encore?\n",
      "4\n",
      "encore?\n"
     ]
    }
   ],
   "source": [
    "for i in range(0,5):\n",
    "    print(i)\n",
    "    print(\"encore?\")"
   ]
  },
  {
   "cell_type": "code",
   "execution_count": 9,
   "metadata": {},
   "outputs": [
    {
     "name": "stdout",
     "output_type": "stream",
     "text": [
      "0\n",
      "encore?\n"
     ]
    }
   ],
   "source": [
    "# break arrete la boucle\n",
    "for i in range(0,5):\n",
    "    print(i)\n",
    "    print(\"encore?\")\n",
    "    break\n",
    "\n",
    "# on s'en sert quand on veut arreter un compteur à une certaine position"
   ]
  },
  {
   "cell_type": "markdown",
   "metadata": {},
   "source": [
    "### pass"
   ]
  },
  {
   "cell_type": "code",
   "execution_count": 12,
   "metadata": {},
   "outputs": [
    {
     "name": "stdout",
     "output_type": "stream",
     "text": [
      "0\n",
      "encore?\n",
      "1\n",
      "encore?\n",
      "2\n",
      "encore?\n",
      "3\n",
      "encore?\n",
      "4\n",
      "encore?\n"
     ]
    }
   ],
   "source": [
    "# pass de fait rien\n",
    "for i in range(0,5):\n",
    "    print(i)\n",
    "    pass\n",
    "    print(\"encore?\")\n",
    "\n",
    "\"\"\"\n",
    "c'est utile par exemple quand on fait du TDD (test driven dev) et qu'on veut définir\n",
    "nos fonctions sans les coder\n",
    "\"\"\"\n",
    "def f(a):\n",
    "    pass\n",
    "\n",
    "#Cela ne me renvoit pas d'erreur\n",
    "f(2)\n",
    "\n",
    "#on peut s'en servir quand on définit des conditions\n",
    "\n",
    "if a < 3:\n",
    "    pass\n",
    "else:\n",
    "    print(\"on est plus que trois\")"
   ]
  },
  {
   "cell_type": "markdown",
   "metadata": {},
   "source": [
    "### continue"
   ]
  },
  {
   "cell_type": "code",
   "execution_count": 11,
   "metadata": {},
   "outputs": [
    {
     "name": "stdout",
     "output_type": "stream",
     "text": [
      "0\n",
      "1\n",
      "2\n",
      "3\n",
      "4\n"
     ]
    }
   ],
   "source": [
    "#continue stop le tour de boucle, pour le tour, le reste des indications sont ignorées\n",
    "for i in range(0,5):\n",
    "    print(i)\n",
    "    continue\n",
    "    print(\"encore?\")"
   ]
  },
  {
   "cell_type": "code",
   "execution_count": 15,
   "metadata": {},
   "outputs": [
    {
     "name": "stdout",
     "output_type": "stream",
     "text": [
      "0\n",
      "encore?\n",
      "1\n",
      "encore?\n",
      "2\n",
      "3\n",
      "4\n"
     ]
    }
   ],
   "source": [
    "#Autre exemple:\n",
    "for i in range(0,5):\n",
    "    print(i)\n",
    "    if i >= 2:\n",
    "        continue\n",
    "    print(\"encore?\")"
   ]
  },
  {
   "cell_type": "markdown",
   "metadata": {},
   "source": [
    "## Fonction lambda"
   ]
  },
  {
   "cell_type": "code",
   "execution_count": null,
   "metadata": {},
   "outputs": [],
   "source": [
    "On peut définir une fonction anonyme sur une ligne."
   ]
  },
  {
   "cell_type": "code",
   "execution_count": 21,
   "metadata": {},
   "outputs": [
    {
     "name": "stdout",
     "output_type": "stream",
     "text": [
      "6\n"
     ]
    }
   ],
   "source": [
    "# prennons une fonction\n",
    "def f(x):\n",
    "    return x*2\n",
    "    \n",
    "f(3)\n",
    "\n",
    "# on peut la définir sous forme lambda\n",
    "g = lambda x: x*2\n",
    "g(3)\n",
    "\n",
    "# on n'est meme pas obligé de lui donner un nom\n",
    "print((lambda x: x*2)(3))"
   ]
  },
  {
   "cell_type": "markdown",
   "metadata": {},
   "source": [
    "Il faut connaitre les fonctions lambdas car on peut les rencontrer dans des codes.\n",
    "Cependant tout ce qu'on peut faire avec une fonctin lambda, on peut le faire avec une fonction normale et les deux types de déclaration sont identiques en terme de performance.\n",
    "\n",
    "On utilise donc généralement les fonctions lambdas pour des fonctions courtes et qui ne sont utilisées qu'une seule fois dans un code"
   ]
  },
  {
   "cell_type": "markdown",
   "metadata": {},
   "source": [
    "**`Exercice 1`**  \n",
    "Write a lambda function that takes x as parameter and returns x+2. Then assign it to a variable named L."
   ]
  },
  {
   "cell_type": "code",
   "execution_count": 49,
   "metadata": {},
   "outputs": [
    {
     "name": "stdout",
     "output_type": "stream",
     "text": [
      "8\n"
     ]
    }
   ],
   "source": [
    "i=6\n",
    "\n",
    "L= lambda x: x+2\n",
    "\n",
    "print(L(i))"
   ]
  },
  {
   "cell_type": "markdown",
   "metadata": {},
   "source": [
    "**`Exercice 2`**  \n",
    "Write a function which takes two arguments: a and b and returns the multiplication of them: a*b. Assign it to a variable named: f."
   ]
  },
  {
   "cell_type": "code",
   "execution_count": 50,
   "metadata": {},
   "outputs": [
    {
     "name": "stdout",
     "output_type": "stream",
     "text": [
      "50\n"
     ]
    }
   ],
   "source": [
    "i,j=5,10\n",
    "\n",
    "f= lambda a,b : a*b\n",
    "\n",
    "print(f(i, j))"
   ]
  },
  {
   "cell_type": "markdown",
   "metadata": {},
   "source": [
    "**`Exercice 3`**  \n",
    "Use the sorted() function to sort the list in ascending order with lambda."
   ]
  },
  {
   "cell_type": "code",
   "execution_count": 60,
   "metadata": {},
   "outputs": [
    {
     "name": "stdout",
     "output_type": "stream",
     "text": [
      "<function <lambda> at 0x000001D1302DB9D0>\n"
     ]
    }
   ],
   "source": [
    "lst=[100, 10, 10000, 1, 9, 999, 99]\n",
    "\n",
    "lst= lambda x: sorted(x)\n",
    "\n",
    "print(lst)"
   ]
  },
  {
   "cell_type": "markdown",
   "metadata": {},
   "source": [
    "**`Exercice 4`**  \n",
    "Using sorted() function and lambda sort the words in the list based on their second letter from a to z.\n"
   ]
  },
  {
   "cell_type": "code",
   "execution_count": null,
   "metadata": {},
   "outputs": [],
   "source": [
    "lst=[\"otter\", \"whale\", \"goose\", \"chipmunk\", \"fox\", \"sheep\", \"rabbit\", \"marten\"]\n",
    "\n",
    "lst=\n",
    "\n",
    "print(lst)\n"
   ]
  }
 ],
 "metadata": {
  "interpreter": {
   "hash": "4822798685b95d90cac6b9eac85a216cd3011e561666c6311e8088bbadca8e0f"
  },
  "kernelspec": {
   "display_name": "Python 3.8.6 64-bit ('3.8.6': pyenv)",
   "name": "python3"
  },
  "language_info": {
   "codemirror_mode": {
    "name": "ipython",
    "version": 3
   },
   "file_extension": ".py",
   "mimetype": "text/x-python",
   "name": "python",
   "nbconvert_exporter": "python",
   "pygments_lexer": "ipython3",
   "version": "3.8.8"
  },
  "orig_nbformat": 4
 },
 "nbformat": 4,
 "nbformat_minor": 2
}
