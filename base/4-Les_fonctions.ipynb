{
 "cells": [
  {
   "cell_type": "markdown",
   "metadata": {},
   "source": [
    "# Les fonctions"
   ]
  },
  {
   "cell_type": "markdown",
   "metadata": {},
   "source": [
    "Pour les autres fonctions built-in : https://docs.python.org/3/library/functions.html#help"
   ]
  },
  {
   "cell_type": "markdown",
   "metadata": {},
   "source": [
    "Une fonction est un bloc de code avec un but spécifique auquel vous pouvez donner un nom. \n",
    "- Elles sont dans un premier temps définies \n",
    "- Puis exécuter. \n",
    "Quand vous appelez une fonction, vous exécutez le code qu’elle contient. Les fonctions vous laissent saisir des paramètres pour exécuter le même code sur différentes valeurs."
   ]
  },
  {
   "cell_type": "markdown",
   "metadata": {},
   "source": [
    "## Les fonctions de base"
   ]
  },
  {
   "cell_type": "markdown",
   "metadata": {},
   "source": [
    "Certaines fonctions sont déja définies dans python, on en a déja rencontré quelques unes:\n",
    "- len(x)\n",
    "- type(x)\n",
    "- max(x)"
   ]
  },
  {
   "cell_type": "markdown",
   "metadata": {},
   "source": [
    "Pour savoir à quoi sert une fonction (ou une classe) il existe une autre fonction:"
   ]
  },
  {
   "cell_type": "code",
   "execution_count": 10,
   "metadata": {},
   "outputs": [
    {
     "name": "stdout",
     "output_type": "stream",
     "text": [
      "Help on built-in function max in module builtins:\n",
      "\n",
      "max(...)\n",
      "    max(iterable, *[, default=obj, key=func]) -> value\n",
      "    max(arg1, arg2, *args, *[, key=func]) -> value\n",
      "    \n",
      "    With a single iterable argument, return its biggest item. The\n",
      "    default keyword-only argument specifies an object to return if\n",
      "    the provided iterable is empty.\n",
      "    With two or more arguments, return the largest argument.\n",
      "\n"
     ]
    }
   ],
   "source": [
    "help(max)"
   ]
  },
  {
   "cell_type": "markdown",
   "metadata": {},
   "source": [
    "## Définir une fonction"
   ]
  },
  {
   "cell_type": "markdown",
   "metadata": {},
   "source": [
    "Il est également possible de créer ses propres fonctions"
   ]
  },
  {
   "cell_type": "code",
   "execution_count": null,
   "metadata": {},
   "outputs": [],
   "source": [
    "\"\"\"Structure génrale d'une fontion\"\"\"\n",
    "\n",
    "# étape de la définission\n",
    "def fonction_name(parametre_1,parametre_2):\n",
    "    #instructions\n",
    "    return result\n",
    "\n",
    "# étape de l'appel\n",
    "resultat = fonction_name(\"quelque_chose\",\"autre_chose\")"
   ]
  },
  {
   "cell_type": "code",
   "execution_count": 2,
   "metadata": {},
   "outputs": [
    {
     "name": "stdout",
     "output_type": "stream",
     "text": [
      "7\n"
     ]
    }
   ],
   "source": [
    "\"\"\"Exemple\"\"\"\n",
    "\n",
    "def add(a,b):\n",
    "    return a+b\n",
    "\n",
    "print(add(3,4))"
   ]
  },
  {
   "cell_type": "markdown",
   "metadata": {},
   "source": [
    "**`Exercice`**: "
   ]
  },
  {
   "cell_type": "code",
   "execution_count": 3,
   "metadata": {},
   "outputs": [
    {
     "name": "stdout",
     "output_type": "stream",
     "text": [
      "120\n",
      "120\n"
     ]
    }
   ],
   "source": [
    "# Ecrivez une fonction qui permet de calculer le produit des éléments d'une liste contenant des integers.\n",
    "def produit_entiers(liste_entiers):\n",
    "    # écrivez le code ici\n",
    "    product = 1\n",
    "    for i in range(len(liste_entiers)) :\n",
    "        product *= liste_entiers[i]\n",
    "\n",
    "    return product\n",
    "\n",
    "numbers = [1, 2 ,3 , 4, 5]\n",
    "\n",
    "print(produit_entiers(numbers))\n",
    "\n",
    "def factorial(n) :\n",
    "    if n == 1 :\n",
    "        return 1\n",
    "    else : \n",
    "        return n * factorial(n-1)\n",
    "\n",
    "print(factorial(5))\n"
   ]
  },
  {
   "cell_type": "code",
   "execution_count": 16,
   "metadata": {},
   "outputs": [
    {
     "data": {
      "text/plain": [
       "960"
      ]
     },
     "execution_count": 16,
     "metadata": {},
     "output_type": "execute_result"
    }
   ],
   "source": [
    "\n",
    "my_liste = [3,4,8,10]\n",
    "\n",
    "\n",
    "def produit_entiers(liste_entiers):\n",
    "    produit = liste_entiers[0]\n",
    "    for e in liste_entiers[1:]:\n",
    "        produit = produit * e\n",
    "    return produit\n",
    "\n",
    "produit_entiers(my_liste)\n",
    "\n"
   ]
  },
  {
   "cell_type": "markdown",
   "metadata": {},
   "source": [
    "## Ecrire correctement ses fonctions avec la Pep8"
   ]
  },
  {
   "cell_type": "markdown",
   "metadata": {},
   "source": [
    "Une doctring est un ensemble de mots qui documente un bout de code. Elle commence par trois guillemets ouvrants, le commentaire que vous souhaitez apporter puis trois guillements fermants."
   ]
  },
  {
   "cell_type": "code",
   "execution_count": null,
   "metadata": {},
   "outputs": [],
   "source": [
    "Exemple :\n",
    "\n",
    "\"\"\" This is a doctring. I'm here to explain what the following code will do.\n",
    "Oh, I'm multiline too!\n",
    "\"\"\""
   ]
  },
  {
   "cell_type": "markdown",
   "metadata": {},
   "source": [
    "Selon la PEP 8, chaque partie de votre code devrait contenir une Doctring.\n",
    "- tous les modules publics\n",
    "- toutes les fonctions\n",
    "- toutes les classes\n",
    "- toutes les méthodes de ces classes"
   ]
  },
  {
   "cell_type": "code",
   "execution_count": 5,
   "metadata": {},
   "outputs": [],
   "source": [
    "def add(a,b):\n",
    "    \"\"\" \n",
    "    This fonction returns the sum of the two parameters\n",
    "\n",
    "    parameters\n",
    "    ----------\n",
    "    a: int\n",
    "    b: int\n",
    "    \"\"\"\n",
    "    aprime = abs(a)  # on prend la valeur absolue\n",
    "    bprime = abs(b)  \n",
    "    return a + b"
   ]
  },
  {
   "cell_type": "code",
   "execution_count": 4,
   "metadata": {},
   "outputs": [
    {
     "name": "stdout",
     "output_type": "stream",
     "text": [
      "Help on function add in module __main__:\n",
      "\n",
      "add(a, b)\n",
      "    This fonction returns the sum of the two parameters\n",
      "    \n",
      "    parameter\n",
      "    ----------\n",
      "    a: int\n",
      "    b: int\n",
      "\n"
     ]
    }
   ],
   "source": [
    "help(add)"
   ]
  },
  {
   "cell_type": "markdown",
   "metadata": {},
   "source": [
    "Cependant la Pep 8 nous demande également d'être concis dans nos commentaires et de ne pas commenter des évidences. Il faut donc se poser la question de savoir si ce que nous écrivons est évident pour quelqu'un qui n'a pas écrit le code (ici oui), si ce n'est pas évident alors il faut commenter"
   ]
  },
  {
   "cell_type": "markdown",
   "metadata": {},
   "source": [
    "**`règles d'écriture`**:\n",
    "- fonctions: minuscules et tiret du bas : my_function()\n",
    "- arguments des méthodes et fonctions : identique aux fonctions. my_function(param=False)  (attention pas d'esapce)"
   ]
  },
  {
   "cell_type": "markdown",
   "metadata": {},
   "source": [
    "## Définir des paramètres particuliers"
   ]
  },
  {
   "cell_type": "code",
<<<<<<< HEAD:base/4-Les_fonctions.ipynb
   "execution_count": 7,
=======
   "execution_count": 9,
>>>>>>> b744fe7a10807a76a9688c69613fb6ae1a30df75:4-Les_fonctions.ipynb
   "metadata": {},
   "outputs": [
    {
     "name": "stdout",
     "output_type": "stream",
     "text": [
      "15\n",
<<<<<<< HEAD:base/4-Les_fonctions.ipynb
      "13\n",
      "22\n",
      "12\n"
=======
      "11\n"
>>>>>>> b744fe7a10807a76a9688c69613fb6ae1a30df75:4-Les_fonctions.ipynb
     ]
    }
   ],
   "source": [
    "# paramètre par défaut\n",
    "\n",
    "def add(a,b=10):\n",
    "    return a+b\n",
    "\n",
    "print(add(5))\n",
<<<<<<< HEAD:base/4-Les_fonctions.ipynb
    "\n",
    "# donner une liste en argument\n",
    "def ad(a,*b):\n",
    "    return a+min(b)\n",
    "\n",
    "liste = [8, 6, 9, 10]\n",
    "print(ad(7, *liste))\n",
    "print(ad(7, 15))\n",
    "print(ad(7, 5, 20))"
=======
    "print(add(a=5,b=6))"
   ]
  },
  {
   "cell_type": "code",
   "execution_count": 23,
   "metadata": {},
   "outputs": [
    {
     "name": "stdout",
     "output_type": "stream",
     "text": [
      "(8,)\n",
      "15\n"
     ]
    }
   ],
   "source": [
    "def add(a,*b):\n",
    "    print(b)\n",
    "    return a + min(b)\n",
    "\n",
    "liste = [8,6,9,10]\n",
    "\n",
    "#print(add(7,*liste))\n",
    "print(add(7,8))"
>>>>>>> b744fe7a10807a76a9688c69613fb6ae1a30df75:4-Les_fonctions.ipynb
   ]
  },
  {
   "cell_type": "code",
   "execution_count": 4,
   "metadata": {},
<<<<<<< HEAD:base/4-Les_fonctions.ipynb
=======
   "outputs": [],
   "source": []
  },
  {
   "cell_type": "code",
   "execution_count": 22,
   "metadata": {},
>>>>>>> b744fe7a10807a76a9688c69613fb6ae1a30df75:4-Les_fonctions.ipynb
   "outputs": [
    {
     "name": "stdout",
     "output_type": "stream",
     "text": [
<<<<<<< HEAD:base/4-Les_fonctions.ipynb
      "Voici les premières lettres de l'alphabet : a, b, c\n"
=======
      "test: ['a', 'b', 'c']\n"
>>>>>>> b744fe7a10807a76a9688c69613fb6ae1a30df75:4-Les_fonctions.ipynb
     ]
    }
   ],
   "source": [
<<<<<<< HEAD:base/4-Les_fonctions.ipynb
    "debut_alphabet = ['a', 'b', 'c']\n",
    "\n",
    "print(\"Voici les premières lettres de l'alphabet : {}, {}, {}\".format(*debut_alphabet))"
=======
    "liste=[\"a\",\"b\",\"c\"]\n",
    "\n",
    "\" j'affiche les premieres lettres de l'alphabet {} , {}, {}\".format(\"a\",\"b\",\"c\")\n",
    "\" j'affiche les premieres lettres de l'alphabet {} , {}, {}\".format(*liste)\n",
    "print(f\"test: {liste}\")"
>>>>>>> b744fe7a10807a76a9688c69613fb6ae1a30df75:4-Les_fonctions.ipynb
   ]
  }
 ],
 "metadata": {
  "interpreter": {
   "hash": "7754f1c53bb33bd820706ba8feb51581fc4f65eb5997df896d4d8e79960a24e5"
  },
  "kernelspec": {
   "display_name": "Python 3.8.8 64-bit ('base': conda)",
   "name": "python3"
  },
  "language_info": {
   "codemirror_mode": {
    "name": "ipython",
    "version": 3
   },
   "file_extension": ".py",
   "mimetype": "text/x-python",
   "name": "python",
   "nbconvert_exporter": "python",
   "pygments_lexer": "ipython3",
   "version": "3.8.8"
  },
  "orig_nbformat": 4
 },
 "nbformat": 4,
 "nbformat_minor": 2
}
