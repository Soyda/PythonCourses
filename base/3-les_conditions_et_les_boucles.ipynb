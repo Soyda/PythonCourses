{
 "cells": [
  {
   "cell_type": "markdown",
   "metadata": {},
   "source": [
    "# Les conditions"
   ]
  },
  {
   "cell_type": "code",
   "execution_count": null,
   "metadata": {},
   "outputs": [],
   "source": [
    "\"\"\" Structure générale d'une condition if \"\"\"\n",
    "if mon_booleen:\n",
    "   # exécuter le code quand mon_booleen est vrai\n",
    "else:\n",
    "   # exécuter le code quand mon_booleen est faux"
   ]
  },
  {
   "cell_type": "markdown",
   "metadata": {},
   "source": [
    "Rappel: Les booléens peuvent être combinés avec des opérateurs logiques (and, or ..) ou issus de comparaison( <, >, == ...)"
   ]
  },
  {
   "cell_type": "code",
   "execution_count": null,
   "metadata": {},
   "outputs": [],
   "source": [
    "\"\"\" Exemple \"\"\"\n",
    "\n",
    "ensoleille = True\n",
    "\n",
    "if ensoleille:\n",
    "   print(\"on va à la plage !\")\n",
    "else:\n",
    "   print(\"on reste à la maison !\")"
   ]
  },
  {
   "cell_type": "code",
   "execution_count": null,
   "metadata": {},
   "outputs": [],
   "source": [
    "\"\"\" Il est également possible d'ajouter d'autres conditions\"\"\"\n",
    "\n",
    "ensoleille = False\n",
    "neige = True\n",
    "\n",
    "if ensoleille:\n",
    "   print(\"on va à la plage !\")\n",
    "elif neige:\n",
    "   print(\"on fait un bonhomme de neige\")\n",
    "else:\n",
    "   print(\"on reste à la maison !\")\n",
    "\n"
   ]
  },
  {
   "cell_type": "markdown",
   "metadata": {},
   "source": [
    "**`Exercice 1`**: quelle est la valeur de x?"
   ]
  },
  {
   "cell_type": "code",
   "execution_count": null,
   "metadata": {},
   "outputs": [],
   "source": [
    "a = True\n",
    "b = False\n",
    "c = True\n",
    "\n",
    "if a and b:\n",
    "    x = 5\n",
    "elif not c:\n",
    "    x = 4\n",
    "elif a:\n",
    "    x = 8\n",
    "else:\n",
    "    x = 7\n",
    "\n",
    "# x = 8"
   ]
  },
  {
   "cell_type": "markdown",
   "metadata": {},
   "source": [
    "**`Exercice 2`**: devinez ce qui va être affiché"
   ]
  },
  {
   "cell_type": "code",
   "execution_count": null,
   "metadata": {},
   "outputs": [],
   "source": [
    "a = 3\n",
    "b = 7\n",
    "c = 5\n",
    "\n",
    "if (a < b or b != c) and c >= b:\n",
    "    print(\"c'est vrai\")\n",
    "else:\n",
    "    print(\"c'est faux\")\n",
    "\n",
    "# c'est faux"
   ]
  },
  {
   "cell_type": "markdown",
   "metadata": {},
   "source": [
    "# Les boucles"
   ]
  },
  {
   "cell_type": "markdown",
   "metadata": {},
   "source": [
    "## La boucle for"
   ]
  },
  {
   "cell_type": "code",
   "execution_count": 1,
   "metadata": {},
   "outputs": [
    {
     "name": "stdout",
     "output_type": "stream",
     "text": [
      "Pascal  présent\n",
      "Azel  présent\n",
      "Tony  présent\n",
      "Vladimir  présent\n",
      "Sabrina  présent\n"
     ]
    }
   ],
   "source": [
    "#Le principal interet de la boucle for est de parcourir des listes\n",
    "liste_apprenants = [\"Pascal\", \"Azel\", \"Tony\", \"Vladimir\", \"Sabrina\"]\n",
    "\n",
    "for element in liste_apprenants:\n",
    "    print(element, \" présent\")"
   ]
  },
  {
   "cell_type": "code",
   "execution_count": null,
   "metadata": {},
   "outputs": [],
   "source": [
    "# On peut également s'en servir avec la fonction range, cela permet de parcourir une liste d'entrée"
   ]
  },
  {
   "cell_type": "code",
   "execution_count": 3,
   "metadata": {},
   "outputs": [
    {
     "name": "stdout",
     "output_type": "stream",
     "text": [
      "0\n",
      "1\n",
      "2\n",
      "3\n",
      "4\n",
      "5\n",
      "6\n",
      "7\n",
      "8\n",
      "9\n"
     ]
    }
   ],
   "source": [
    "for i in range(10):\n",
    "    print(i)"
   ]
  },
  {
   "cell_type": "code",
   "execution_count": 7,
   "metadata": {},
   "outputs": [
    {
     "name": "stdout",
     "output_type": "stream",
     "text": [
      "j = 2\n",
      "j = 4\n",
      "j = 6\n",
      "j = 8\n",
      "j = 10\n",
      "k = 11\n",
      "k = 10\n",
      "k = 9\n",
      "k = 8\n"
     ]
    }
   ],
   "source": [
    "# la fonction range peut prendre plusieurs arguments:\n",
    "premier_element = 2\n",
    "dernier_element_plus_1 = 11\n",
    "pas = 2 # on compte tous les combien\n",
    "\n",
    "for j in range(premier_element,dernier_element_plus_1,pas):\n",
    "    print(f\"j = {j}\")\n",
    "\n",
    "premier_element = 11\n",
    "dernier_element_plus_1 = 7\n",
    "pas = -1 # on compte tous les combien\n",
    "\n",
    "for k in range(premier_element,dernier_element_plus_1,pas):\n",
    "    print(f\"k = {k}\")   "
   ]
  },
  {
   "cell_type": "markdown",
   "metadata": {},
   "source": [
    "**`Exercice 2`**: écrivez un code qui utilise range et qui a la sortie suivante:  \n",
    "canari 1  \n",
    "canari 2  \n",
    "canari 3  \n",
    "canari 4  \n",
    "canari 5  "
   ]
  },
  {
   "cell_type": "code",
   "execution_count": 1,
   "metadata": {},
   "outputs": [
    {
     "name": "stdout",
     "output_type": "stream",
     "text": [
      "canari 1\n",
      "canari 2\n",
      "canari 3\n",
      "canari 4\n",
      "canari 5\n"
     ]
    }
   ],
   "source": [
    "for i in range(1, 6):\n",
    "    print(f\"canari {i}\")"
   ]
  },
  {
   "cell_type": "markdown",
   "metadata": {},
   "source": [
    "## Boucle While"
   ]
  },
  {
   "cell_type": "code",
   "execution_count": null,
   "metadata": {},
   "outputs": [],
   "source": [
    "# La structure générale de la boucle while est la suivante:\n",
    "\n",
    "i=0\n",
    "condition = 10 > i\n",
    "\n",
    "while condition:\n",
    "    print(f\"la condition est encore vraie car i vaut {i}\")\n",
    "    i += 1 # on appelle cela l'icrémentation\n",
    "    condition = 10 > i\n"
   ]
  },
  {
   "cell_type": "code",
   "execution_count": null,
   "metadata": {},
   "outputs": [],
   "source": [
    "# l'indentation permet de ne pas créer de boucle infinie\n",
    "i=11\n",
    "condition = 12 > i\n",
    "while condition:\n",
    "    print(\"ceci est une boucle infinie\")"
   ]
  },
  {
   "cell_type": "markdown",
   "metadata": {},
   "source": [
    "**`Exercice 1`**: \n",
    "- Utilisez une boucle et la fonction \"range\" pour calculer la somme des 100 premier entier naturel\n",
    "- Utilisez la boucle while pour calculer le produit des 100 premiers entier naturel"
   ]
  },
  {
   "cell_type": "code",
   "execution_count": 8,
   "metadata": {},
   "outputs": [
    {
     "name": "stdout",
     "output_type": "stream",
     "text": [
      "5050\n",
      "5050\n",
      "93326215443944152681699238856266700490715968264381621468592963895217599993229915608941463976156518286253697920827223758251185210916864000000000000000000000000\n"
     ]
    }
   ],
   "source": [
    "i = 0\n",
    "sum = 0\n",
    "while i <= 100 : \n",
    "    sum += i\n",
    "    i += 1\n",
    "print(sum)\n",
    "\n",
    "sumk = 0\n",
    "for k in range(101) :\n",
    "    sumk += k\n",
    "print(sumk)\n",
    "\n",
    "j = 1\n",
    "product = 1\n",
    "while j <= 100 : \n",
    "    product *= j\n",
    "    j += 1\n",
    "print(product)"
   ]
  },
  {
   "cell_type": "markdown",
   "metadata": {},
   "source": [
    "**`Exercice 2`**: \n",
    "-  Dans un fichier scipt, A l'aide de la fonction while et la fonction input (help(input)) écrivez cette blague\n",
    "- \"Si repete et pepete  sont dans un bateau, pepete tombe à l'eau, qu'est ce qui reste?\"\n",
    "- si la personne répond \"repète\", le programme pose la meme question : \"Si repete et pepete sont dans un bateau, pepete tombe à l'eau, qu'est ce qui reste?\"\n",
    "- si la personne répond autre chose le programme pose comme question: \"Mais non tu comprends pas, si repete et pepete  sont dans un bateau, pepete tombe à l'eau, qu'est ce qui reste \"\n",
    "- si la personne répond \"tu es lourd\" enfin le programme s'arrete"
   ]
  },
  {
   "cell_type": "code",
   "execution_count": 10,
   "metadata": {},
   "outputs": [],
   "source": [
    "x = input(\"Si repete et pepete sont dans un bateau, pepete tombe à l'eau, qu'est-ce qui reste ?\")\n",
    "while x != 'tu es lourd' :\n",
    "\n",
    "    if x == \"repète\" :\n",
    "        x = input(\"Si repete et pepete sont dans un bateau, pepete tombe à l'eau, qu'est-ce qui reste ?\")\n",
    "    # elif x == \"tu es lourd\" :\n",
    "    #     print(\"Ok j'arrête\")\n",
    "    else :\n",
    "        x = input(\"Mais non tu comprends pas, si repete et pepete  sont dans un bateau, pepete tombe à l'eau, qu'est ce qui reste ?\")\n"
   ]
  },
  {
   "cell_type": "markdown",
   "metadata": {},
   "source": [
    "**`Exercice 3`**: \n",
    "- Reprenez votre programme en utilisant l'instruction `break`"
   ]
  },
  {
   "cell_type": "code",
   "execution_count": 11,
   "metadata": {},
   "outputs": [],
   "source": [
    "x = input(\"Si repete et pepete sont dans un bateau, pepete tombe à l'eau, qu'est-ce qui reste ?\")\n",
    "while True :\n",
    "\n",
    "    if x == \"repète\" :\n",
    "        x = input(\"Si repete et pepete sont dans un bateau, pepete tombe à l'eau, qu'est-ce qui reste ?\")\n",
    "    elif x == \"tu es lourd\" :\n",
    "        break\n",
    "    else :\n",
    "        x = input(\"Mais non tu comprends pas, si repete et pepete  sont dans un bateau, pepete tombe à l'eau, qu'est ce qui reste ?\")"
   ]
  },
  {
   "cell_type": "markdown",
   "metadata": {},
   "source": [
    "**`Exercice 4`**: Plus classique et beaucoup moins drole \n",
    "- écrivez un programme script qui demande deux nombres puis renvoie leur somme si les nombres sont valides sinon il renvoie une erreur et demande à nouveaux deux nombres valides."
   ]
  },
  {
   "cell_type": "code",
   "execution_count": 1,
   "metadata": {},
   "outputs": [
    {
     "name": "stdout",
     "output_type": "stream",
     "text": [
      "100.0\n",
      "13.0\n",
      "4.8945\n"
     ]
    }
   ],
   "source": [
    "def isfloat(n) :\n",
    "    try :\n",
    "        float(n)\n",
    "        return True\n",
    "    except ValueError :\n",
    "        print('That was no valid number.  Try again')\n",
    "        return False\n",
    "\n",
    "q = True\n",
    "while q :\n",
    "    x = input('Enter number x : ')\n",
    "    y = input('Enter number y : ')\n",
    "\n",
    "    if isfloat(x) and isfloat(y) :\n",
    "        print(float(x)+float(y))\n",
    "    else : \n",
    "        print(\"Error: You have to enter digits\")\n",
    "    \n",
    "    q = input(\"Would you like to leave? yes / no : \")\n",
    "\n",
    "    if q == \"yes\" :\n",
    "        q = False"
   ]
  },
  {
   "cell_type": "markdown",
   "metadata": {},
   "source": [
    "**`Mini-projet`**: liste de courses\n",
    "Creez un programme script qui propose ce menu (et permet bien de le réaliser)\n",
    "\n",
    "Choisissez par les options suivantes:\n",
    "- 1: ajoutez un élément à la liste\n",
    "- 2: retirer une élément de la liste\n",
    "- 3: afficher la liste\n",
    "- 4: vider la liste\n",
    "- 5: Quitter  \n",
    "**Quel est votre choix?:**"
   ]
  },
  {
   "cell_type": "code",
   "execution_count": null,
   "metadata": {},
   "outputs": [],
   "source": [
    "leave = True\n",
    "cart = []\n",
    "\n",
    "while leave :\n",
    "    \n",
    "    print(\"Menu : \\n\")\n",
    "    print(\"1. Add an item to your cart\")\n",
    "    print(\"2. Remove an item from your cart\")\n",
    "    print(\"3. Display what's in your cart\")\n",
    "    print(\"4. Empty your cart\")\n",
    "    print(\"5. Leave\")\n",
    "    \n",
    "    choice = input(\"Choose an option please : \\n\")\n",
    "    \n",
    "    match choice :\n",
    "        case '1':\n",
    "            cart.append(input(\"What would you like to add to your cart? : \\n\"))\n",
    "            print(\"Item added !\\n\")\n",
    "        case '2':\n",
    "            cart.remove(input(\"Which item would you like to remove? : \\n\"))\n",
    "            print(\"Item removed !\\n\")\n",
    "        case '3':\n",
    "            print(\"This is what is currently in cart : \\n\")\n",
    "            print(cart)\n",
    "            print(\"\\n\")\n",
    "        case '4':\n",
    "            cart.clear()\n",
    "            print(\"Your cart have been emptied ! \\n\")\n",
    "        case '5':\n",
    "            leave = False\n",
    "        case _:\n",
    "            print(\"ERROR: Please select a correct option.\\n\")"
   ]
  }
 ],
 "metadata": {
  "interpreter": {
   "hash": "07efdcd4b820c98a756949507a4d29d7862823915ec7477944641bea022f4f62"
  },
  "kernelspec": {
   "display_name": "Python 3.8.8 64-bit ('base': conda)",
   "name": "python3"
  },
  "language_info": {
   "codemirror_mode": {
    "name": "ipython",
    "version": 3
   },
   "file_extension": ".py",
   "mimetype": "text/x-python",
   "name": "python",
   "nbconvert_exporter": "python",
   "pygments_lexer": "ipython3",
   "version": "3.8.8"
  },
  "orig_nbformat": 4
 },
 "nbformat": 4,
 "nbformat_minor": 2
}
